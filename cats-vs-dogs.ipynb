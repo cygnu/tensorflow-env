{
 "cells": [
  {
   "cell_type": "code",
   "execution_count": 1,
   "metadata": {},
   "outputs": [],
   "source": [
    "import shutil\n",
    "import os\n",
    "\n",
    "\n",
    "original_dataset_dir = \"./train\"\n",
    "train_cats_dir = \"./train/cats\"\n",
    "train_dogs_dir = \"./train/dogs\"\n",
    "\n",
    "fnames = [\"dog.{}.jpg\".format(i) for i in range(1000)]\n",
    "\n",
    "for fname in fnames:\n",
    "    from_data = original_dataset_dir + \"/\" + fname\n",
    "    to_data = train_dogs_dir + \"/\" + fname\n",
    "    shutil.copyfile(from_data, to_data)\n",
    "\n",
    "fnames = [\"cat.{}.jpg\".format(i) for i in range(1000)]\n",
    " \n",
    "for fname in fnames:\n",
    "    from_data = original_dataset_dir + \"/\" + fname\n",
    "    to_data = train_cats_dir + \"/\" + fname\n",
    "    shutil.copyfile(from_data, to_data)\n",
    "    \n",
    "fnames = [\"dog.{}.jpg\".format(i) for i in range(1000)]\n",
    " \n",
    "for fname in fnames:\n",
    "    from_data = original_dataset_dir + \"/\" + fname\n",
    "    to_data = train_dogs_dir + \"/\" + fname\n",
    "    shutil.copyfile(from_data, to_data)"
   ]
  },
  {
   "cell_type": "code",
   "execution_count": 2,
   "metadata": {},
   "outputs": [],
   "source": [
    "validation_cats_dir = \"validation/cats\"\n",
    "validation_dogs_dir = \"validation/dogs\"\n",
    "\n",
    "\n",
    "fnames = [\"cat.{}.jpg\".format(i) for i in range(1000,1500)]\n",
    " \n",
    "for fname in fnames:\n",
    "    from_data = original_dataset_dir + \"/\" + fname\n",
    "    to_data = validation_cats_dir + \"/\" + fname\n",
    "    shutil.copyfile(from_data, to_data)\n",
    " \n",
    "fnames = [\"dog.{}.jpg\".format(i) for i in range(1000,1500)]\n",
    " \n",
    "for fname in fnames:\n",
    "    from_data = original_dataset_dir + \"/\" + fname\n",
    "    to_data = validation_dogs_dir + \"/\" + fname\n",
    "    shutil.copyfile(from_data, to_data)"
   ]
  },
  {
   "cell_type": "code",
   "execution_count": 3,
   "metadata": {},
   "outputs": [],
   "source": [
    "test_cats_dir = \"test/cats\"\n",
    "test_dogs_dir = \"test/dogs\"\n",
    "\n",
    "fnames = [\"cat.{}.jpg\".format(i) for i in range(1500,2000)]\n",
    " \n",
    "for fname in fnames:\n",
    "    from_data = original_dataset_dir + \"/\" + fname\n",
    "    to_data = test_cats_dir + \"/\" + fname\n",
    "    shutil.copyfile(from_data, to_data)\n",
    " \n",
    "fnames = [\"dog.{}.jpg\".format(i) for i in range(1500,2000)]\n",
    " \n",
    "for fname in fnames:\n",
    "    from_data = original_dataset_dir + \"/\" + fname\n",
    "    to_data = test_dogs_dir + \"/\" + fname\n",
    "    shutil.copyfile(from_data, to_data)"
   ]
  },
  {
   "cell_type": "code",
   "execution_count": 4,
   "metadata": {},
   "outputs": [
    {
     "name": "stdout",
     "output_type": "stream",
     "text": [
      "train cat:1001\n",
      "train dog:1001\n",
      "validation cat:501\n",
      "validation dog:501\n",
      "test cat:501\n",
      "test dog:501\n"
     ]
    }
   ],
   "source": [
    "print(\"train cat:{}\".format(len(os.listdir(train_cats_dir))))\n",
    "print(\"train dog:{}\".format(len(os.listdir(train_dogs_dir))))\n",
    " \n",
    "print(\"validation cat:{}\".format(len(os.listdir(validation_cats_dir))))\n",
    "print(\"validation dog:{}\".format(len(os.listdir(validation_dogs_dir))))\n",
    " \n",
    "print(\"test cat:{}\".format(len(os.listdir(test_cats_dir))))\n",
    "print(\"test dog:{}\".format(len(os.listdir(test_dogs_dir))))"
   ]
  },
  {
   "cell_type": "code",
   "execution_count": 5,
   "metadata": {},
   "outputs": [
    {
     "name": "stdout",
     "output_type": "stream",
     "text": [
      "Model: \"sequential\"\n",
      "_________________________________________________________________\n",
      "Layer (type)                 Output Shape              Param #   \n",
      "=================================================================\n",
      "conv2d (Conv2D)              (None, 148, 148, 32)      896       \n",
      "_________________________________________________________________\n",
      "max_pooling2d (MaxPooling2D) (None, 74, 74, 32)        0         \n",
      "_________________________________________________________________\n",
      "conv2d_1 (Conv2D)            (None, 72, 72, 64)        18496     \n",
      "_________________________________________________________________\n",
      "max_pooling2d_1 (MaxPooling2 (None, 36, 36, 64)        0         \n",
      "_________________________________________________________________\n",
      "conv2d_2 (Conv2D)            (None, 34, 34, 128)       73856     \n",
      "_________________________________________________________________\n",
      "max_pooling2d_2 (MaxPooling2 (None, 17, 17, 128)       0         \n",
      "_________________________________________________________________\n",
      "conv2d_3 (Conv2D)            (None, 15, 15, 128)       147584    \n",
      "_________________________________________________________________\n",
      "max_pooling2d_3 (MaxPooling2 (None, 7, 7, 128)         0         \n",
      "_________________________________________________________________\n",
      "flatten (Flatten)            (None, 6272)              0         \n",
      "_________________________________________________________________\n",
      "dense (Dense)                (None, 512)               3211776   \n",
      "_________________________________________________________________\n",
      "dense_1 (Dense)              (None, 1)                 513       \n",
      "=================================================================\n",
      "Total params: 3,453,121\n",
      "Trainable params: 3,453,121\n",
      "Non-trainable params: 0\n",
      "_________________________________________________________________\n"
     ]
    },
    {
     "name": "stderr",
     "output_type": "stream",
     "text": [
      "2021-12-21 06:45:22.389978: I tensorflow/compiler/jit/xla_cpu_device.cc:41] Not creating XLA devices, tf_xla_enable_xla_devices not set\n",
      "2021-12-21 06:45:22.391903: I tensorflow/core/platform/cpu_feature_guard.cc:142] This TensorFlow binary is optimized with oneAPI Deep Neural Network Library (oneDNN) to use the following CPU instructions in performance-critical operations:  SSE4.1 SSE4.2 AVX AVX2 FMA\n",
      "To enable them in other operations, rebuild TensorFlow with the appropriate compiler flags.\n",
      "2021-12-21 06:45:22.397965: I tensorflow/core/common_runtime/process_util.cc:146] Creating new thread pool with default inter op setting: 2. Tune using inter_op_parallelism_threads for best performance.\n"
     ]
    }
   ],
   "source": [
    "# ネットワークの作成\n",
    "from keras import layers\n",
    "from keras import models\n",
    " \n",
    "model = models.Sequential()\n",
    "model.add(layers.Conv2D(32,(3,3),activation=\"relu\",input_shape=(150,150,3)))\n",
    "model.add(layers.MaxPooling2D((2,2)))\n",
    " \n",
    "model.add(layers.Conv2D(64,(3,3),activation=\"relu\"))\n",
    "model.add(layers.MaxPooling2D((2,2)))\n",
    " \n",
    "model.add(layers.Conv2D(128,(3,3),activation=\"relu\"))\n",
    "model.add(layers.MaxPooling2D((2,2)))\n",
    " \n",
    "model.add(layers.Conv2D(128,(3,3),activation=\"relu\"))\n",
    "model.add(layers.MaxPooling2D((2,2)))\n",
    " \n",
    "model.add(layers.Flatten())\n",
    " \n",
    "model.add(layers.Dense(512,activation=\"relu\"))\n",
    "model.add(layers.Dense(1,activation=\"sigmoid\"))\n",
    " \n",
    "model.summary()"
   ]
  },
  {
   "cell_type": "code",
   "execution_count": 6,
   "metadata": {},
   "outputs": [],
   "source": [
    "from keras import optimizers\n",
    "\n",
    "# 2値分類では、活性化関数は「sigmoid」、損失関数は「binary_crossentropy」を使うのが一般的\n",
    "model.compile(loss=\"binary_crossentropy\",\n",
    "             optimizer=optimizers.RMSprop(lr=1e-4),\n",
    "             metrics=[\"acc\"])"
   ]
  },
  {
   "cell_type": "markdown",
   "metadata": {},
   "source": [
    "学習にかけるためには、画像ファイルに以下の前処理を行う\n",
    "\n",
    "1. 画像ファイルを読み込む\n",
    "1. 浮動小数点数型(float型)にする\n",
    "1. ピクセル値(0-255)を、[0,1]の範囲の値にする\n",
    "\n",
    "* target_sizeは、画像のサイズです。上では150,150のサイズにリサイズします。\n",
    "* batch_sizeは、一度に処理する画像の枚数です。20枚を1バッチとします。\n",
    "* class_modeは、”binary”として二値のラベルを作成します。"
   ]
  },
  {
   "cell_type": "code",
   "execution_count": 7,
   "metadata": {},
   "outputs": [
    {
     "name": "stdout",
     "output_type": "stream",
     "text": [
      "Found 2000 images belonging to 2 classes.\n",
      "Found 1000 images belonging to 2 classes.\n"
     ]
    }
   ],
   "source": [
    "from keras.preprocessing.image import ImageDataGenerator\n",
    "import scipy\n",
    "\n",
    "train_dir = \"train\"\n",
    "validation_dir = \"validation\"\n",
    "\n",
    "train_datagen = ImageDataGenerator(rescale=1./255)\n",
    "validation_datagen = ImageDataGenerator(rescale=1./255)\n",
    " \n",
    "train_generator = train_datagen.flow_from_directory(\n",
    "    train_dir,\n",
    "    target_size=(150,150),\n",
    "    batch_size=20,\n",
    "    class_mode=\"binary\"\n",
    ")\n",
    " \n",
    "validation_generator = validation_datagen.flow_from_directory(\n",
    "    validation_dir,\n",
    "    target_size=(150,150),\n",
    "    batch_size=20,\n",
    "    class_mode=\"binary\"\n",
    ")"
   ]
  },
  {
   "cell_type": "code",
   "execution_count": 8,
   "metadata": {},
   "outputs": [
    {
     "name": "stdout",
     "output_type": "stream",
     "text": [
      "(20, 150, 150, 3)\n",
      "(20,)\n"
     ]
    },
    {
     "data": {
      "text/plain": [
       "(20,)"
      ]
     },
     "execution_count": 8,
     "metadata": {},
     "output_type": "execute_result"
    }
   ],
   "source": [
    "for data,label in train_generator:\n",
    "    print(data.shape)\n",
    "    print(label.shape)\n",
    "    break\n",
    "\n",
    "\n",
    "(20, 150, 150, 3)\n",
    "(20,)"
   ]
  },
  {
   "cell_type": "code",
   "execution_count": 9,
   "metadata": {},
   "outputs": [
    {
     "name": "stderr",
     "output_type": "stream",
     "text": [
      "/home/cruciani/anaconda3/envs/python37/lib/python3.7/site-packages/tensorflow/python/keras/engine/training.py:1844: UserWarning: `Model.fit_generator` is deprecated and will be removed in a future version. Please use `Model.fit`, which supports generators.\n",
      "  warnings.warn('`Model.fit_generator` is deprecated and '\n",
      "2021-12-21 06:45:23.641089: I tensorflow/compiler/mlir/mlir_graph_optimization_pass.cc:116] None of the MLIR optimization passes are enabled (registered 2)\n",
      "2021-12-21 06:45:23.644951: I tensorflow/core/platform/profile_utils/cpu_utils.cc:112] CPU Frequency: 2095985000 Hz\n"
     ]
    },
    {
     "name": "stdout",
     "output_type": "stream",
     "text": [
      "Epoch 1/30\n",
      "100/100 [==============================] - 40s 380ms/step - loss: 0.6926 - acc: 0.5154 - val_loss: 0.6686 - val_acc: 0.6010\n",
      "Epoch 2/30\n",
      "100/100 [==============================] - 35s 347ms/step - loss: 0.6547 - acc: 0.6219 - val_loss: 0.6222 - val_acc: 0.6520\n",
      "Epoch 3/30\n",
      "100/100 [==============================] - 32s 315ms/step - loss: 0.5786 - acc: 0.7055 - val_loss: 0.6154 - val_acc: 0.6550\n",
      "Epoch 4/30\n",
      "100/100 [==============================] - 30s 301ms/step - loss: 0.5607 - acc: 0.7125 - val_loss: 0.5864 - val_acc: 0.6920\n",
      "Epoch 5/30\n",
      "100/100 [==============================] - 30s 296ms/step - loss: 0.5382 - acc: 0.7150 - val_loss: 0.6195 - val_acc: 0.6560\n",
      "Epoch 6/30\n",
      "100/100 [==============================] - 32s 322ms/step - loss: 0.5150 - acc: 0.7425 - val_loss: 0.6085 - val_acc: 0.6600\n",
      "Epoch 7/30\n",
      "100/100 [==============================] - 31s 312ms/step - loss: 0.4946 - acc: 0.7375 - val_loss: 0.6014 - val_acc: 0.6920\n",
      "Epoch 8/30\n",
      "100/100 [==============================] - 30s 300ms/step - loss: 0.4440 - acc: 0.7958 - val_loss: 0.5915 - val_acc: 0.6870\n",
      "Epoch 9/30\n",
      "100/100 [==============================] - 30s 295ms/step - loss: 0.4332 - acc: 0.8005 - val_loss: 0.5923 - val_acc: 0.6850\n",
      "Epoch 10/30\n",
      "100/100 [==============================] - 31s 305ms/step - loss: 0.4099 - acc: 0.8091 - val_loss: 0.5483 - val_acc: 0.7200\n",
      "Epoch 11/30\n",
      "100/100 [==============================] - 31s 313ms/step - loss: 0.3808 - acc: 0.8313 - val_loss: 0.6144 - val_acc: 0.7020\n",
      "Epoch 12/30\n",
      "100/100 [==============================] - 31s 313ms/step - loss: 0.3594 - acc: 0.8463 - val_loss: 0.5823 - val_acc: 0.7070\n",
      "Epoch 13/30\n",
      "100/100 [==============================] - 33s 332ms/step - loss: 0.3362 - acc: 0.8558 - val_loss: 0.5686 - val_acc: 0.7260\n",
      "Epoch 14/30\n",
      "100/100 [==============================] - 564s 347ms/step - loss: 0.2993 - acc: 0.8747 - val_loss: 0.6051 - val_acc: 0.7190\n",
      "Epoch 15/30\n",
      "100/100 [==============================] - 32s 322ms/step - loss: 0.2912 - acc: 0.8789 - val_loss: 0.6292 - val_acc: 0.7100\n",
      "Epoch 16/30\n",
      "100/100 [==============================] - 32s 318ms/step - loss: 0.2639 - acc: 0.8915 - val_loss: 0.6242 - val_acc: 0.7270\n",
      "Epoch 17/30\n",
      "100/100 [==============================] - 30s 304ms/step - loss: 0.2382 - acc: 0.9085 - val_loss: 0.6190 - val_acc: 0.7340\n",
      "Epoch 18/30\n",
      "100/100 [==============================] - 32s 316ms/step - loss: 0.2095 - acc: 0.9210 - val_loss: 0.6416 - val_acc: 0.7150\n",
      "Epoch 19/30\n",
      "100/100 [==============================] - 32s 320ms/step - loss: 0.2138 - acc: 0.9197 - val_loss: 0.6719 - val_acc: 0.7300\n",
      "Epoch 20/30\n",
      "100/100 [==============================] - 32s 318ms/step - loss: 0.1847 - acc: 0.9313 - val_loss: 0.6696 - val_acc: 0.7300\n",
      "Epoch 21/30\n",
      "100/100 [==============================] - 31s 308ms/step - loss: 0.1663 - acc: 0.9419 - val_loss: 0.6531 - val_acc: 0.7270\n",
      "Epoch 22/30\n",
      "100/100 [==============================] - 285s 3s/step - loss: 0.1457 - acc: 0.9520 - val_loss: 0.7105 - val_acc: 0.7120\n",
      "Epoch 23/30\n",
      "100/100 [==============================] - 30s 299ms/step - loss: 0.1334 - acc: 0.9630 - val_loss: 0.8944 - val_acc: 0.7110\n",
      "Epoch 24/30\n",
      "100/100 [==============================] - 32s 323ms/step - loss: 0.1127 - acc: 0.9632 - val_loss: 0.7361 - val_acc: 0.7300\n",
      "Epoch 25/30\n",
      "100/100 [==============================] - 31s 312ms/step - loss: 0.1053 - acc: 0.9714 - val_loss: 0.7681 - val_acc: 0.7210\n",
      "Epoch 26/30\n",
      "100/100 [==============================] - 33s 335ms/step - loss: 0.0780 - acc: 0.9818 - val_loss: 0.8056 - val_acc: 0.7340\n",
      "Epoch 27/30\n",
      "100/100 [==============================] - 30s 302ms/step - loss: 0.0730 - acc: 0.9839 - val_loss: 0.8549 - val_acc: 0.7340\n",
      "Epoch 28/30\n",
      "100/100 [==============================] - 33s 328ms/step - loss: 0.0711 - acc: 0.9815 - val_loss: 0.9813 - val_acc: 0.7300\n",
      "Epoch 29/30\n",
      "100/100 [==============================] - 31s 305ms/step - loss: 0.0562 - acc: 0.9857 - val_loss: 0.8852 - val_acc: 0.7240\n",
      "Epoch 30/30\n",
      "100/100 [==============================] - 33s 333ms/step - loss: 0.0487 - acc: 0.9891 - val_loss: 0.9782 - val_acc: 0.7320\n"
     ]
    }
   ],
   "source": [
    "history = model.fit_generator(train_generator,\n",
    "                             steps_per_epoch=100,\n",
    "                             epochs=30,\n",
    "                             validation_data=validation_generator,\n",
    "                             validation_steps=50)"
   ]
  },
  {
   "cell_type": "code",
   "execution_count": 10,
   "metadata": {},
   "outputs": [
    {
     "data": {
      "image/png": "[encoded data removed]",
      "text/plain": [
       "<Figure size 432x288 with 1 Axes>"
      ]
     },
     "metadata": {
      "needs_background": "light"
     },
     "output_type": "display_data"
    },
    {
     "data": {
      "image/png": "[encoded data removed]",
      "text/plain": [
       "<Figure size 432x288 with 1 Axes>"
      ]
     },
     "metadata": {
      "needs_background": "light"
     },
     "output_type": "display_data"
    }
   ],
   "source": [
    "import matplotlib.pyplot as plt\n",
    "%matplotlib inline\n",
    " \n",
    "\n",
    "acc = history.history[\"acc\"]\n",
    "val_acc = history.history[\"val_acc\"]\n",
    "loss = history.history[\"loss\"]\n",
    "val_loss = history.history[\"val_loss\"]\n",
    " \n",
    "epochs = range(1,len(acc) + 1)\n",
    " \n",
    "plt.plot(epochs, acc,\"bo\",label=\"Training Acc\")\n",
    "plt.plot(epochs, val_acc,\"b\",label=\"Validation Acc\")\n",
    "plt.legend()\n",
    " \n",
    "plt.figure()\n",
    " \n",
    "plt.plot(epochs,loss,\"bo\",label=\"Training Loss\")\n",
    "plt.plot(epochs,val_loss,\"b\",label=\"Validation Loss\")\n",
    "plt.legend()\n",
    " \n",
    "plt.show()"
   ]
  }
 ],
 "metadata": {
  "interpreter": {
   "hash": "3660af96af7ee4f880b87717c17398d09abfc2f3c952b3d43fbd14305df2b84d"
  },
  "kernelspec": {
   "display_name": "Python 3.7.11 64-bit ('tensor-flow-env': conda)",
   "language": "python",
   "name": "python3"
  },
  "language_info": {
   "codemirror_mode": {
    "name": "ipython",
    "version": 3
   },
   "file_extension": ".py",
   "mimetype": "text/x-python",
   "name": "python",
   "nbconvert_exporter": "python",
   "pygments_lexer": "ipython3",
   "version": "3.7.11"
  },
  "orig_nbformat": 4
 },
 "nbformat": 4,
 "nbformat_minor": 2
}
